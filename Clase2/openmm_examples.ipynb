{
  "nbformat": 4,
  "nbformat_minor": 0,
  "metadata": {
    "accelerator": "GPU",
    "colab": {
      "name": "openmm.ipynb",
      "provenance": [],
      "collapsed_sections": [],
      "toc_visible": true,
      "include_colab_link": true
    },
    "kernelspec": {
      "display_name": "Python 3",
      "language": "python",
      "name": "python3"
    },
    "language_info": {
      "codemirror_mode": {
        "name": "ipython",
        "version": 3
      },
      "file_extension": ".py",
      "mimetype": "text/x-python",
      "name": "python",
      "nbconvert_exporter": "python",
      "pygments_lexer": "ipython3",
      "version": "3.6.10"
    }
  },
  "cells": [
    {
      "cell_type": "markdown",
      "metadata": {
        "id": "view-in-github",
        "colab_type": "text"
      },
      "source": [
        "<a href=\"https://colab.research.google.com/github/cabb99/cdec039/blob/main/Clase2/openmm_examples.ipynb\" target=\"_parent\"><img src=\"https://colab.research.google.com/assets/colab-badge.svg\" alt=\"Open In Colab\"/></a>"
      ]
    },
    {
      "cell_type": "markdown",
      "metadata": {
        "id": "ZBvBc0OshucJ"
      },
      "source": [
        "## Installation (Google Colab)"
      ]
    },
    {
      "cell_type": "code",
      "metadata": {
        "colab": {
          "base_uri": "https://localhost:8080/"
        },
        "id": "8-458CZ2mZs4",
        "outputId": "ba80f8a1-66de-4798-d551-ace384fa08a6"
      },
      "source": [
        "!wget https://repo.anaconda.com/miniconda/Miniconda3-py37_4.8.2-Linux-x86_64.sh"
      ],
      "execution_count": null,
      "outputs": [
        {
          "output_type": "stream",
          "text": [
            "--2020-11-04 01:57:55--  https://repo.anaconda.com/miniconda/Miniconda3-py37_4.8.2-Linux-x86_64.sh\n",
            "Resolving repo.anaconda.com (repo.anaconda.com)... 104.16.131.3, 104.16.130.3, 2606:4700::6810:8203, ...\n",
            "Connecting to repo.anaconda.com (repo.anaconda.com)|104.16.131.3|:443... connected.\n",
            "HTTP request sent, awaiting response... 200 OK\n",
            "Length: 85055499 (81M) [application/x-sh]\n",
            "Saving to: ‘Miniconda3-py37_4.8.2-Linux-x86_64.sh’\n",
            "\n",
            "Miniconda3-py37_4.8 100%[===================>]  81.12M   265MB/s    in 0.3s    \n",
            "\n",
            "2020-11-04 01:57:56 (265 MB/s) - ‘Miniconda3-py37_4.8.2-Linux-x86_64.sh’ saved [85055499/85055499]\n",
            "\n"
          ],
          "name": "stdout"
        }
      ]
    },
    {
      "cell_type": "markdown",
      "metadata": {
        "id": "T1_0KPAimeKx"
      },
      "source": [
        "*texto en cursiva*# Nueva sección"
      ]
    },
    {
      "cell_type": "code",
      "metadata": {
        "id": "sIwdpeEFrrvX"
      },
      "source": [
        "! chmod +x Miniconda3-py37_4.8.2-Linux-x86_64.sh"
      ],
      "execution_count": null,
      "outputs": []
    },
    {
      "cell_type": "code",
      "metadata": {
        "colab": {
          "base_uri": "https://localhost:8080/"
        },
        "id": "tQkOgeWnr1Oy",
        "outputId": "6fab388c-5be3-4986-9f88-9f4abc69b70b"
      },
      "source": [
        "! bash ./Miniconda3-py37_4.8.2-Linux-x86_64.sh -b -f -p /usr/local"
      ],
      "execution_count": null,
      "outputs": [
        {
          "output_type": "stream",
          "text": [
            "PREFIX=/usr/local\n",
            "Unpacking payload ...\n",
            "Collecting package metadata (current_repodata.json): - \b\b\\ \b\b| \b\bdone\n",
            "Solving environment: - \b\bdone\n",
            "\n",
            "## Package Plan ##\n",
            "\n",
            "  environment location: /usr/local\n",
            "\n",
            "  added / updated specs:\n",
            "    - _libgcc_mutex==0.1=main\n",
            "    - asn1crypto==1.3.0=py37_0\n",
            "    - ca-certificates==2020.1.1=0\n",
            "    - certifi==2019.11.28=py37_0\n",
            "    - cffi==1.14.0=py37h2e261b9_0\n",
            "    - chardet==3.0.4=py37_1003\n",
            "    - conda-package-handling==1.6.0=py37h7b6447c_0\n",
            "    - conda==4.8.2=py37_0\n",
            "    - cryptography==2.8=py37h1ba5d50_0\n",
            "    - idna==2.8=py37_0\n",
            "    - ld_impl_linux-64==2.33.1=h53a641e_7\n",
            "    - libedit==3.1.20181209=hc058e9b_0\n",
            "    - libffi==3.2.1=hd88cf55_4\n",
            "    - libgcc-ng==9.1.0=hdf63c60_0\n",
            "    - libstdcxx-ng==9.1.0=hdf63c60_0\n",
            "    - ncurses==6.2=he6710b0_0\n",
            "    - openssl==1.1.1d=h7b6447c_4\n",
            "    - pip==20.0.2=py37_1\n",
            "    - pycosat==0.6.3=py37h7b6447c_0\n",
            "    - pycparser==2.19=py37_0\n",
            "    - pyopenssl==19.1.0=py37_0\n",
            "    - pysocks==1.7.1=py37_0\n",
            "    - python==3.7.6=h0371630_2\n",
            "    - readline==7.0=h7b6447c_5\n",
            "    - requests==2.22.0=py37_1\n",
            "    - ruamel_yaml==0.15.87=py37h7b6447c_0\n",
            "    - setuptools==45.2.0=py37_0\n",
            "    - six==1.14.0=py37_0\n",
            "    - sqlite==3.31.1=h7b6447c_0\n",
            "    - tk==8.6.8=hbc83047_0\n",
            "    - tqdm==4.42.1=py_0\n",
            "    - urllib3==1.25.8=py37_0\n",
            "    - wheel==0.34.2=py37_0\n",
            "    - xz==5.2.4=h14c3975_4\n",
            "    - yaml==0.1.7=had09818_2\n",
            "    - zlib==1.2.11=h7b6447c_3\n",
            "\n",
            "\n",
            "The following NEW packages will be INSTALLED:\n",
            "\n",
            "  _libgcc_mutex      pkgs/main/linux-64::_libgcc_mutex-0.1-main\n",
            "  asn1crypto         pkgs/main/linux-64::asn1crypto-1.3.0-py37_0\n",
            "  ca-certificates    pkgs/main/linux-64::ca-certificates-2020.1.1-0\n",
            "  certifi            pkgs/main/linux-64::certifi-2019.11.28-py37_0\n",
            "  cffi               pkgs/main/linux-64::cffi-1.14.0-py37h2e261b9_0\n",
            "  chardet            pkgs/main/linux-64::chardet-3.0.4-py37_1003\n",
            "  conda              pkgs/main/linux-64::conda-4.8.2-py37_0\n",
            "  conda-package-han~ pkgs/main/linux-64::conda-package-handling-1.6.0-py37h7b6447c_0\n",
            "  cryptography       pkgs/main/linux-64::cryptography-2.8-py37h1ba5d50_0\n",
            "  idna               pkgs/main/linux-64::idna-2.8-py37_0\n",
            "  ld_impl_linux-64   pkgs/main/linux-64::ld_impl_linux-64-2.33.1-h53a641e_7\n",
            "  libedit            pkgs/main/linux-64::libedit-3.1.20181209-hc058e9b_0\n",
            "  libffi             pkgs/main/linux-64::libffi-3.2.1-hd88cf55_4\n",
            "  libgcc-ng          pkgs/main/linux-64::libgcc-ng-9.1.0-hdf63c60_0\n",
            "  libstdcxx-ng       pkgs/main/linux-64::libstdcxx-ng-9.1.0-hdf63c60_0\n",
            "  ncurses            pkgs/main/linux-64::ncurses-6.2-he6710b0_0\n",
            "  openssl            pkgs/main/linux-64::openssl-1.1.1d-h7b6447c_4\n",
            "  pip                pkgs/main/linux-64::pip-20.0.2-py37_1\n",
            "  pycosat            pkgs/main/linux-64::pycosat-0.6.3-py37h7b6447c_0\n",
            "  pycparser          pkgs/main/linux-64::pycparser-2.19-py37_0\n",
            "  pyopenssl          pkgs/main/linux-64::pyopenssl-19.1.0-py37_0\n",
            "  pysocks            pkgs/main/linux-64::pysocks-1.7.1-py37_0\n",
            "  python             pkgs/main/linux-64::python-3.7.6-h0371630_2\n",
            "  readline           pkgs/main/linux-64::readline-7.0-h7b6447c_5\n",
            "  requests           pkgs/main/linux-64::requests-2.22.0-py37_1\n",
            "  ruamel_yaml        pkgs/main/linux-64::ruamel_yaml-0.15.87-py37h7b6447c_0\n",
            "  setuptools         pkgs/main/linux-64::setuptools-45.2.0-py37_0\n",
            "  six                pkgs/main/linux-64::six-1.14.0-py37_0\n",
            "  sqlite             pkgs/main/linux-64::sqlite-3.31.1-h7b6447c_0\n",
            "  tk                 pkgs/main/linux-64::tk-8.6.8-hbc83047_0\n",
            "  tqdm               pkgs/main/noarch::tqdm-4.42.1-py_0\n",
            "  urllib3            pkgs/main/linux-64::urllib3-1.25.8-py37_0\n",
            "  wheel              pkgs/main/linux-64::wheel-0.34.2-py37_0\n",
            "  xz                 pkgs/main/linux-64::xz-5.2.4-h14c3975_4\n",
            "  yaml               pkgs/main/linux-64::yaml-0.1.7-had09818_2\n",
            "  zlib               pkgs/main/linux-64::zlib-1.2.11-h7b6447c_3\n",
            "\n",
            "\n",
            "Preparing transaction: | \b\b/ \b\b- \b\b\\ \b\bdone\n",
            "Executing transaction: / \b\b- \b\b\\ \b\b| \b\b/ \b\b- \b\b\\ \b\b| \b\b/ \b\b- \b\b\\ \b\b| \b\b/ \b\b- \b\bdone\n",
            "installation finished.\n",
            "WARNING:\n",
            "    You currently have a PYTHONPATH environment variable set. This may cause\n",
            "    unexpected behavior when running the Python interpreter in Miniconda3.\n",
            "    For best results, please verify that your PYTHONPATH only points to\n",
            "    directories of packages that are compatible with the Python interpreter\n",
            "    in Miniconda3: /usr/local\n"
          ],
          "name": "stdout"
        }
      ]
    },
    {
      "cell_type": "code",
      "metadata": {
        "id": "yf2TqWeQr7rD"
      },
      "source": [
        "import sys\n",
        "sys.path.append('/usr/local/lib/python3.7/site-packages/')"
      ],
      "execution_count": null,
      "outputs": []
    },
    {
      "cell_type": "code",
      "metadata": {
        "colab": {
          "base_uri": "https://localhost:8080/"
        },
        "id": "gDK1_A0csYwA",
        "outputId": "53d412c0-2347-4fe6-d423-ff8bd750bcfe"
      },
      "source": [
        "! conda install -c rdkit rdkit -y\n",
        "! conda install seaborn=0.11 jupyter pandas matplotlib numpy scipy scikit-learn MDAnalysis mdtraj prody pyemma jupyter_contrib_nbextensions MDAnalysisTests mdshare nglview -y"
      ],
      "execution_count": null,
      "outputs": [
        {
          "output_type": "stream",
          "text": [
            "Collecting package metadata (current_repodata.json): - \b\b\\ \b\b| \b\b/ \b\b- \b\b\\ \b\b| \b\b/ \b\b- \b\b\\ \b\b| \b\b/ \b\b- \b\b\\ \b\b| \b\b/ \b\bdone\n",
            "Solving environment: \\ \b\b| \b\b/ \b\b- \b\b\\ \b\b| \b\b/ \b\b- \b\b\\ \b\b| \b\bdone\n",
            "\n",
            "## Package Plan ##\n",
            "\n",
            "  environment location: /usr/local\n",
            "\n",
            "  added / updated specs:\n",
            "    - rdkit\n",
            "\n",
            "\n",
            "The following packages will be downloaded:\n",
            "\n",
            "    package                    |            build\n",
            "    ---------------------------|-----------------\n",
            "    blas-1.0                   |              mkl           6 KB\n",
            "    bzip2-1.0.8                |       h7b6447c_0          78 KB\n",
            "    ca-certificates-2020.10.14 |                0         121 KB\n",
            "    cairo-1.14.12              |       h8948797_3         906 KB\n",
            "    certifi-2020.6.20          |     pyhd3eb1b0_3         155 KB\n",
            "    cffi-1.14.3                |   py37he30daa8_0         223 KB\n",
            "    conda-4.9.1                |   py37h06a4308_0         2.9 MB\n",
            "    fontconfig-2.13.0          |       h9420a91_0         227 KB\n",
            "    freetype-2.10.4            |       h5ab3b9f_0         596 KB\n",
            "    glib-2.66.1                |       h92f7085_0         2.9 MB\n",
            "    icu-58.2                   |       he6710b0_3        10.5 MB\n",
            "    intel-openmp-2020.2        |              254         786 KB\n",
            "    jpeg-9b                    |       h024ee3a_2         214 KB\n",
            "    lcms2-2.11                 |       h396b838_0         307 KB\n",
            "    libboost-1.73.0            |      hf484d3e_11        13.9 MB\n",
            "    libffi-3.3                 |       he6710b0_2          50 KB\n",
            "    libpng-1.6.37              |       hbc83047_0         278 KB\n",
            "    libtiff-4.1.0              |       h2733197_1         449 KB\n",
            "    libuuid-1.0.3              |       h1bed415_2          15 KB\n",
            "    libxcb-1.14                |       h7b6447c_0         505 KB\n",
            "    libxml2-2.9.10             |       hb55368b_3         1.2 MB\n",
            "    lz4-c-1.9.2                |       heb0550a_3         175 KB\n",
            "    mkl-2020.2                 |              256       138.3 MB\n",
            "    mkl-service-2.3.0          |   py37he904b0f_0         218 KB\n",
            "    mkl_fft-1.2.0              |   py37h23d657b_0         148 KB\n",
            "    mkl_random-1.1.1           |   py37h0573a6f_0         322 KB\n",
            "    numpy-1.19.2               |   py37h54aff64_0          22 KB\n",
            "    numpy-base-1.19.2          |   py37hfa32c7d_0         4.1 MB\n",
            "    olefile-0.46               |           py37_0          50 KB\n",
            "    openssl-1.1.1h             |       h7b6447c_0         2.5 MB\n",
            "    pandas-1.1.3               |   py37he6710b0_0         8.1 MB\n",
            "    pcre-8.44                  |       he6710b0_0         212 KB\n",
            "    pillow-8.0.1               |   py37he98fc37_0         619 KB\n",
            "    pixman-0.40.0              |       h7b6447c_0         370 KB\n",
            "    py-boost-1.73.0            |  py37h04863e7_11         202 KB\n",
            "    python-dateutil-2.8.1      |             py_0         215 KB\n",
            "    pytz-2020.1                |             py_0         184 KB\n",
            "    rdkit-2020.09.1.0          |   py37hd50e099_1        25.8 MB  rdkit\n",
            "    xz-5.2.5                   |       h7b6447c_0         341 KB\n",
            "    zstd-1.4.5                 |       h9ceee32_0         619 KB\n",
            "    ------------------------------------------------------------\n",
            "                                           Total:       218.7 MB\n",
            "\n",
            "The following NEW packages will be INSTALLED:\n",
            "\n",
            "  blas               pkgs/main/linux-64::blas-1.0-mkl\n",
            "  bzip2              pkgs/main/linux-64::bzip2-1.0.8-h7b6447c_0\n",
            "  cairo              pkgs/main/linux-64::cairo-1.14.12-h8948797_3\n",
            "  fontconfig         pkgs/main/linux-64::fontconfig-2.13.0-h9420a91_0\n",
            "  freetype           pkgs/main/linux-64::freetype-2.10.4-h5ab3b9f_0\n",
            "  glib               pkgs/main/linux-64::glib-2.66.1-h92f7085_0\n",
            "  icu                pkgs/main/linux-64::icu-58.2-he6710b0_3\n",
            "  intel-openmp       pkgs/main/linux-64::intel-openmp-2020.2-254\n",
            "  jpeg               pkgs/main/linux-64::jpeg-9b-h024ee3a_2\n",
            "  lcms2              pkgs/main/linux-64::lcms2-2.11-h396b838_0\n",
            "  libboost           pkgs/main/linux-64::libboost-1.73.0-hf484d3e_11\n",
            "  libpng             pkgs/main/linux-64::libpng-1.6.37-hbc83047_0\n",
            "  libtiff            pkgs/main/linux-64::libtiff-4.1.0-h2733197_1\n",
            "  libuuid            pkgs/main/linux-64::libuuid-1.0.3-h1bed415_2\n",
            "  libxcb             pkgs/main/linux-64::libxcb-1.14-h7b6447c_0\n",
            "  libxml2            pkgs/main/linux-64::libxml2-2.9.10-hb55368b_3\n",
            "  lz4-c              pkgs/main/linux-64::lz4-c-1.9.2-heb0550a_3\n",
            "  mkl                pkgs/main/linux-64::mkl-2020.2-256\n",
            "  mkl-service        pkgs/main/linux-64::mkl-service-2.3.0-py37he904b0f_0\n",
            "  mkl_fft            pkgs/main/linux-64::mkl_fft-1.2.0-py37h23d657b_0\n",
            "  mkl_random         pkgs/main/linux-64::mkl_random-1.1.1-py37h0573a6f_0\n",
            "  numpy              pkgs/main/linux-64::numpy-1.19.2-py37h54aff64_0\n",
            "  numpy-base         pkgs/main/linux-64::numpy-base-1.19.2-py37hfa32c7d_0\n",
            "  olefile            pkgs/main/linux-64::olefile-0.46-py37_0\n",
            "  pandas             pkgs/main/linux-64::pandas-1.1.3-py37he6710b0_0\n",
            "  pcre               pkgs/main/linux-64::pcre-8.44-he6710b0_0\n",
            "  pillow             pkgs/main/linux-64::pillow-8.0.1-py37he98fc37_0\n",
            "  pixman             pkgs/main/linux-64::pixman-0.40.0-h7b6447c_0\n",
            "  py-boost           pkgs/main/linux-64::py-boost-1.73.0-py37h04863e7_11\n",
            "  python-dateutil    pkgs/main/noarch::python-dateutil-2.8.1-py_0\n",
            "  pytz               pkgs/main/noarch::pytz-2020.1-py_0\n",
            "  rdkit              rdkit/linux-64::rdkit-2020.09.1.0-py37hd50e099_1\n",
            "  zstd               pkgs/main/linux-64::zstd-1.4.5-h9ceee32_0\n",
            "\n",
            "The following packages will be UPDATED:\n",
            "\n",
            "  ca-certificates                                2020.1.1-0 --> 2020.10.14-0\n",
            "  certifi            pkgs/main/linux-64::certifi-2019.11.2~ --> pkgs/main/noarch::certifi-2020.6.20-pyhd3eb1b0_3\n",
            "  cffi                                1.14.0-py37h2e261b9_0 --> 1.14.3-py37he30daa8_0\n",
            "  conda                                        4.8.2-py37_0 --> 4.9.1-py37h06a4308_0\n",
            "  libffi                                   3.2.1-hd88cf55_4 --> 3.3-he6710b0_2\n",
            "  openssl                                 1.1.1d-h7b6447c_4 --> 1.1.1h-h7b6447c_0\n",
            "  xz                                       5.2.4-h14c3975_4 --> 5.2.5-h7b6447c_0\n",
            "\n",
            "\n",
            "\n",
            "Downloading and Extracting Packages\n",
            "jpeg-9b              | 214 KB    | : 100% 1.0/1 [00:00<00:00, 10.90it/s]\n",
            "numpy-1.19.2         | 22 KB     | : 100% 1.0/1 [00:00<00:00, 32.89it/s]\n",
            "libuuid-1.0.3        | 15 KB     | : 100% 1.0/1 [00:00<00:00, 26.48it/s]\n",
            "pcre-8.44            | 212 KB    | : 100% 1.0/1 [00:00<00:00, 25.38it/s]\n",
            "mkl-service-2.3.0    | 218 KB    | : 100% 1.0/1 [00:00<00:00, 24.20it/s]\n",
            "libtiff-4.1.0        | 449 KB    | : 100% 1.0/1 [00:00<00:00, 19.36it/s]\n",
            "libxcb-1.14          | 505 KB    | : 100% 1.0/1 [00:00<00:00, 16.83it/s]\n",
            "pytz-2020.1          | 184 KB    | : 100% 1.0/1 [00:00<00:00, 13.67it/s]\n",
            "olefile-0.46         | 50 KB     | : 100% 1.0/1 [00:00<00:00, 33.48it/s]\n",
            "numpy-base-1.19.2    | 4.1 MB    | : 100% 1.0/1 [00:00<00:00,  4.21it/s]\n",
            "ca-certificates-2020 | 121 KB    | : 100% 1.0/1 [00:00<00:00, 30.68it/s]\n",
            "python-dateutil-2.8. | 215 KB    | : 100% 1.0/1 [00:00<00:00, 21.68it/s]\n",
            "cffi-1.14.3          | 223 KB    | : 100% 1.0/1 [00:00<00:00, 22.27it/s]\n",
            "py-boost-1.73.0      | 202 KB    | : 100% 1.0/1 [00:00<00:00, 19.90it/s]\n",
            "certifi-2020.6.20    | 155 KB    | : 100% 1.0/1 [00:00<00:00, 31.95it/s]\n",
            "libxml2-2.9.10       | 1.2 MB    | : 100% 1.0/1 [00:00<00:00, 11.01it/s]\n",
            "bzip2-1.0.8          | 78 KB     | : 100% 1.0/1 [00:00<00:00, 20.47it/s]\n",
            "blas-1.0             | 6 KB      | : 100% 1.0/1 [00:00<00:00, 17.67it/s]\n",
            "mkl_random-1.1.1     | 322 KB    | : 100% 1.0/1 [00:00<00:00, 22.90it/s]\n",
            "libboost-1.73.0      | 13.9 MB   | : 100% 1.0/1 [00:01<00:00,  1.24s/it]               \n",
            "pillow-8.0.1         | 619 KB    | : 100% 1.0/1 [00:00<00:00, 14.72it/s]\n",
            "openssl-1.1.1h       | 2.5 MB    | : 100% 1.0/1 [00:00<00:00,  8.21it/s]\n",
            "pandas-1.1.3         | 8.1 MB    | : 100% 1.0/1 [00:00<00:00,  2.54it/s]\n",
            "mkl_fft-1.2.0        | 148 KB    | : 100% 1.0/1 [00:00<00:00, 16.02it/s]\n",
            "intel-openmp-2020.2  | 786 KB    | : 100% 1.0/1 [00:00<00:00, 12.92it/s]\n",
            "fontconfig-2.13.0    | 227 KB    | : 100% 1.0/1 [00:00<00:00, 20.52it/s]\n",
            "xz-5.2.5             | 341 KB    | : 100% 1.0/1 [00:00<00:00, 16.32it/s]\n",
            "glib-2.66.1          | 2.9 MB    | : 100% 1.0/1 [00:00<00:00,  4.51it/s]\n",
            "freetype-2.10.4      | 596 KB    | : 100% 1.0/1 [00:00<00:00, 16.15it/s]\n",
            "cairo-1.14.12        | 906 KB    | : 100% 1.0/1 [00:00<00:00, 11.48it/s]\n",
            "lcms2-2.11           | 307 KB    | : 100% 1.0/1 [00:00<00:00, 20.28it/s]\n",
            "conda-4.9.1          | 2.9 MB    | : 100% 1.0/1 [00:00<00:00,  5.99it/s]\n",
            "mkl-2020.2           | 138.3 MB  | : 100% 1.0/1 [00:05<00:00,  5.15s/it]               \n",
            "lz4-c-1.9.2          | 175 KB    | : 100% 1.0/1 [00:00<00:00, 23.86it/s]\n",
            "libffi-3.3           | 50 KB     | : 100% 1.0/1 [00:00<00:00, 21.87it/s]\n",
            "zstd-1.4.5           | 619 KB    | : 100% 1.0/1 [00:00<00:00, 19.31it/s]\n",
            "icu-58.2             | 10.5 MB   | : 100% 1.0/1 [00:01<00:00,  1.35s/it]               \n",
            "rdkit-2020.09.1.0    | 25.8 MB   | : 100% 1.0/1 [00:07<00:00,  7.41s/it]\n",
            "pixman-0.40.0        | 370 KB    | : 100% 1.0/1 [00:00<00:00,  1.48it/s]\n",
            "libpng-1.6.37        | 278 KB    | : 100% 1.0/1 [00:00<00:00,  7.39it/s]\n",
            "Preparing transaction: - \b\b\\ \b\b| \b\b/ \b\b- \b\b\\ \b\b| \b\b/ \b\bdone\n",
            "Verifying transaction: \\ \b\b| \b\b/ \b\b- \b\b\\ \b\b| \b\b/ \b\b- \b\b\\ \b\b| \b\b/ \b\b- \b\b\\ \b\b| \b\b/ \b\b- \b\b\\ \b\b| \b\b/ \b\b- \b\b\\ \b\b| \b\b/ \b\b- \b\bdone\n",
            "Executing transaction: | \b\b/ \b\b- \b\b\\ \b\b| \b\b/ \b\b- \b\b\\ \b\b| \b\b/ \b\b- \b\b\\ \b\b| \b\b/ \b\b- \b\b\\ \b\b| \b\b/ \b\b- \b\b\\ \b\b| \b\b/ \b\b- \b\b\\ \b\b| \b\b/ \b\b- \b\b\\ \b\b| \b\b/ \b\b- \b\b\\ \b\b| \b\b/ \b\b- \b\b\\ \b\b| \b\b/ \b\b- \b\b\\ \b\b| \b\b/ \b\b- \b\b\\ \b\b| \b\b/ \b\b- \b\b\\ \b\b| \b\b/ \b\b- \b\b\\ \b\b| \b\b/ \b\b- \b\b\\ \b\b| \b\b/ \b\b- \b\b\\ \b\b| \b\b/ \b\b- \b\b\\ \b\b| \b\b/ \b\b- \b\b\\ \b\b| \b\b/ \b\b- \b\b\\ \b\b| \b\b/ \b\b- \b\b\\ \b\b| \b\b/ \b\b- \b\b\\ \b\b| \b\b/ \b\b- \b\b\\ \b\b| \b\b/ \b\b- \b\b\\ \b\b| \b\b/ \b\b- \b\b\\ \b\b| \b\b/ \b\b- \b\b\\ \b\b| \b\b/ \b\b- \b\b\\ \b\b| \b\b/ \b\b- \b\b\\ \b\b| \b\b/ \b\b- \b\b\\ \b\b| \b\b/ \b\b- \b\b\\ \b\b| \b\b/ \b\b- \b\b\\ \b\b| \b\b/ \b\b- \b\b\\ \b\b| \b\b/ \b\b- \b\b\\ \b\b| \b\b/ \b\b- \b\b\\ \b\b| \b\b/ \b\b- \b\b\\ \b\b| \b\b/ \b\b- \b\b\\ \b\b| \b\b/ \b\b- \b\b\\ \b\b| \b\b/ \b\b- \b\b\\ \b\b| \b\b/ \b\b- \b\b\\ \b\b| \b\b/ \b\b- \b\b\\ \b\b| \b\b/ \b\b- \b\b\\ \b\b| \b\b/ \b\b- \b\b\\ \b\b| \b\b/ \b\b- \b\b\\ \b\b| \b\b/ \b\b- \b\b\\ \b\b| \b\b/ \b\b- \b\b\\ \b\b| \b\b/ \b\b- \b\b\\ \b\b| \b\b/ \b\b- \b\b\\ \b\b| \b\b/ \b\b- \b\b\\ \b\b| \b\b/ \b\b- \b\b\\ \b\b| \b\b/ \b\b- \b\b\\ \b\b| \b\b/ \b\b- \b\b\\ \b\b| \b\b/ \b\b- \b\b\\ \b\b| \b\b/ \b\b- \b\b\\ \b\b| \b\b/ \b\b- \b\b\\ \b\b| \b\b/ \b\b- \b\b\\ \b\b| \b\b/ \b\b- \b\b\\ \b\b| \b\b/ \b\b- \b\b\\ \b\b| \b\b/ \b\b- \b\b\\ \b\b| \b\b/ \b\b- \b\b\\ \b\b| \b\b/ \b\b- \b\b\\ \b\b| \b\b/ \b\b- \b\b\\ \b\b| \b\b/ \b\b- \b\b\\ \b\b| \b\b/ \b\b- \b\b\\ \b\b| \b\b/ \b\b- \b\b\\ \b\b| \b\b/ \b\b- \b\b\\ \b\b| \b\b/ \b\b- \b\b\\ \b\b| \b\b/ \b\b- \b\b\\ \b\b| \b\b/ \b\b- \b\b\\ \b\b| \b\b/ \b\b- \b\b\\ \b\b| \b\b/ \b\b- \b\b\\ \b\b| \b\b/ \b\b- \b\b\\ \b\b| \b\b/ \b\b- \b\b\\ \b\b| \b\b/ \b\b- \b\b\\ \b\b| \b\b/ \b\b- \b\b\\ \b\b| \b\b/ \b\b- \b\b\\ \b\b| \b\b/ \b\b- \b\b\\ \b\b| \b\b/ \b\b- \b\b\\ \b\b| \b\b/ \b\b- \b\b\\ \b\b| \b\b/ \b\b- \b\b\\ \b\b| \b\b/ \b\b- \b\b\\ \b\b| \b\b/ \b\b- \b\b\\ \b\b| \b\b/ \b\b- \b\b\\ \b\b| \b\b/ \b\b- \b\b\\ \b\b| \b\b/ \b\b- \b\b\\ \b\b| \b\b/ \b\b- \b\b\\ \b\b| \b\b/ \b\b- \b\b\\ \b\b| \b\b/ \b\b- \b\b\\ \b\b| \b\b/ \b\b- \b\b\\ \b\b| \b\b/ \b\b- \b\b\\ \b\b| \b\b/ \b\b- \b\b\\ \b\b| \b\b/ \b\b- \b\b\\ \b\b| \b\b/ \b\b- \b\b\\ \b\b| \b\b/ \b\b- \b\b\\ \b\b| \b\b/ \b\b- \b\b\\ \b\b| \b\b/ \b\b- \b\b\\ \b\b| \b\b/ \b\b- \b\b\\ \b\b| \b\b/ \b\b- \b\b\\ \b\b| \b\b/ \b\b- \b\b\\ \b\b| \b\b/ \b\b- \b\b\\ \b\b| \b\b/ \b\b- \b\b\\ \b\b| \b\b/ \b\b- \b\b\\ \b\b| \b\b/ \b\b- \b\b\\ \b\b| \b\b/ \b\b- \b\b\\ \b\b| \b\b/ \b\b- \b\b\\ \b\b| \b\b/ \b\b- \b\b\\ \b\b| \b\b/ \b\b- \b\b\\ \b\b| \b\b/ \b\b- \b\b\\ \b\b| \b\b/ \b\b- \b\b\\ \b\b| \b\b/ \b\b- \b\b\\ \b\b| \b\b/ \b\b- \b\b\\ \b\b| \b\b/ \b\b- \b\b\\ \b\b| \b\b/ \b\b- \b\b\\ \b\b| \b\b/ \b\b- \b\b\\ \b\b| \b\b/ \b\b- \b\b\\ \b\b| \b\b/ \b\b- \b\b\\ \b\b| \b\b/ \b\b- \b\b\\ \b\bdone\n"
          ],
          "name": "stdout"
        }
      ]
    },
    {
      "cell_type": "code",
      "metadata": {
        "colab": {
          "base_uri": "https://localhost:8080/"
        },
        "id": "ShNQ9ksUsPPr",
        "outputId": "a34c98ed-6ba9-4003-db80-8710b4bdeb32"
      },
      "source": [
        "!conda install -c omnia -c conda-forge openmm -y"
      ],
      "execution_count": null,
      "outputs": [
        {
          "output_type": "stream",
          "text": [
            "Collecting package metadata (current_repodata.json): - \b\b\\ \b\b| \b\b/ \b\b- \b\b\\ \b\b| \b\b/ \b\b- \b\b\\ \b\b| \b\b/ \b\b- \b\b\\ \b\b| \b\b/ \b\b- \b\b\\ \b\b| \b\b/ \b\b- \b\b\\ \b\b| \b\b/ \b\b- \b\b\\ \b\b| \b\b/ \b\b- \b\b\\ \b\b| \b\b/ \b\b- \b\b\\ \b\b| \b\b/ \b\b- \b\b\\ \b\b| \b\b/ \b\b- \b\b\\ \b\b| \b\b/ \b\b- \b\b\\ \b\b| \b\b/ \b\b- \b\b\\ \b\b| \b\b/ \b\b- \b\b\\ \b\b| \b\b/ \b\b- \b\b\\ \b\b| \b\b/ \b\b- \b\b\\ \b\b| \b\b/ \b\b- \b\b\\ \b\b| \b\bdone\n",
            "Solving environment: - \b\b\\ \b\b| \b\b/ \b\b- \b\b\\ \b\b| \b\b/ \b\b- \b\b\\ \b\b| \b\b/ \b\b- \b\b\\ \b\b| \b\b/ \b\b- \b\bdone\n",
            "\n",
            "## Package Plan ##\n",
            "\n",
            "  environment location: /usr/local\n",
            "\n",
            "  added / updated specs:\n",
            "    - openmm\n",
            "\n",
            "\n",
            "The following packages will be downloaded:\n",
            "\n",
            "    package                    |            build\n",
            "    ---------------------------|-----------------\n",
            "    ca-certificates-2020.6.20  |       hecda079_0         145 KB  conda-forge\n",
            "    certifi-2020.6.20          |   py37he5f6b98_2         151 KB  conda-forge\n",
            "    cython-0.29.21             |   py37hb892b2f_1         2.1 MB  conda-forge\n",
            "    fftw3f-3.3.4               |                2         1.2 MB  omnia\n",
            "    openmm-7.4.2               |py37_cuda101_rc_1        11.9 MB  omnia\n",
            "    openssl-1.1.1h             |       h516909a_0         2.1 MB  conda-forge\n",
            "    python_abi-3.7             |          1_cp37m           4 KB  conda-forge\n",
            "    ------------------------------------------------------------\n",
            "                                           Total:        17.6 MB\n",
            "\n",
            "The following NEW packages will be INSTALLED:\n",
            "\n",
            "  cython             conda-forge/linux-64::cython-0.29.21-py37hb892b2f_1\n",
            "  fftw3f             omnia/linux-64::fftw3f-3.3.4-2\n",
            "  openmm             omnia/linux-64::openmm-7.4.2-py37_cuda101_rc_1\n",
            "  python_abi         conda-forge/linux-64::python_abi-3.7-1_cp37m\n",
            "\n",
            "The following packages will be SUPERSEDED by a higher-priority channel:\n",
            "\n",
            "  ca-certificates    pkgs/main::ca-certificates-2020.10.14~ --> conda-forge::ca-certificates-2020.6.20-hecda079_0\n",
            "  certifi            pkgs/main/noarch::certifi-2020.6.20-p~ --> conda-forge/linux-64::certifi-2020.6.20-py37he5f6b98_2\n",
            "  openssl              pkgs/main::openssl-1.1.1h-h7b6447c_0 --> conda-forge::openssl-1.1.1h-h516909a_0\n",
            "\n",
            "\n",
            "Proceed ([y]/n)? y\n",
            "\n",
            "\n",
            "Downloading and Extracting Packages\n",
            "cython-0.29.21       | 2.1 MB    | : 100% 1.0/1 [00:00<00:00,  2.24it/s]\n",
            "fftw3f-3.3.4         | 1.2 MB    | : 100% 1.0/1 [00:00<00:00,  3.35it/s]\n",
            "openssl-1.1.1h       | 2.1 MB    | : 100% 1.0/1 [00:00<00:00,  3.04it/s]\n",
            "openmm-7.4.2         | 11.9 MB   | : 100% 1.0/1 [00:02<00:00,  2.40s/it]\n",
            "ca-certificates-2020 | 145 KB    | : 100% 1.0/1 [00:00<00:00, 21.90it/s]\n",
            "certifi-2020.6.20    | 151 KB    | : 100% 1.0/1 [00:00<00:00, 14.59it/s]\n",
            "python_abi-3.7       | 4 KB      | : 100% 1.0/1 [00:00<00:00, 36.53it/s]\n",
            "Preparing transaction: | \b\bdone\n",
            "Verifying transaction: - \b\b\\ \b\bdone\n",
            "Executing transaction: / \b\b- \b\bdone\n"
          ],
          "name": "stdout"
        }
      ]
    },
    {
      "cell_type": "code",
      "metadata": {
        "colab": {
          "base_uri": "https://localhost:8080/"
        },
        "id": "PP2bCLo3tTAe",
        "outputId": "7c88ae08-0b60-424c-fa9c-e2e918966558"
      },
      "source": [
        "! python -m simtk.testInstallation"
      ],
      "execution_count": null,
      "outputs": [
        {
          "output_type": "stream",
          "text": [
            "\n",
            "OpenMM Version: 7.4.2\n",
            "Git Revision: dc9d188939ad630d240e89806b185061f7cd661a\n",
            "\n",
            "There are 4 Platforms available:\n",
            "\n",
            "1 Reference - Successfully computed forces\n",
            "2 CPU - Successfully computed forces\n",
            "3 CUDA - Successfully computed forces\n",
            "4 OpenCL - Successfully computed forces\n",
            "\n",
            "Median difference in forces between platforms:\n",
            "\n",
            "Reference vs. CPU: 6.30858e-06\n",
            "Reference vs. CUDA: 6.72596e-06\n",
            "CPU vs. CUDA: 7.80906e-07\n",
            "Reference vs. OpenCL: 6.75312e-06\n",
            "CPU vs. OpenCL: 8.18064e-07\n",
            "CUDA vs. OpenCL: 2.15614e-07\n",
            "\n",
            "All differences are within tolerance.\n"
          ],
          "name": "stdout"
        }
      ]
    },
    {
      "cell_type": "markdown",
      "metadata": {
        "id": "8YuLGfycBF_d"
      },
      "source": [
        "## Openmm tutorial\n",
        "Documentacion: http://docs.openmm.org/7.0.0/userguide/\n",
        "Archivos: ~/Programs/anaconda3/envs/py36/share/openmm/examples\n"
      ]
    },
    {
      "cell_type": "code",
      "metadata": {
        "id": "RmJpPIa06Jh1",
        "outputId": "c9b2281a-bed4-43f3-e18a-4a314c25b148"
      },
      "source": [
        "from simtk.openmm.app import *\n",
        "from simtk.openmm import *\n",
        "from simtk.unit import *\n",
        "from sys import stdout\n",
        "\n",
        "pdb = PDBFile('input.pdb')\n",
        "forcefield = ForceField('amber99sb.xml', 'tip3p.xml')\n",
        "system = forcefield.createSystem(pdb.topology, nonbondedMethod=PME,\n",
        "        nonbondedCutoff=1*nanometer, constraints=HBonds)\n",
        "integrator = LangevinIntegrator(300*kelvin, 1/picosecond, 0.002*picoseconds)\n",
        "simulation = Simulation(pdb.topology, system, integrator)\n",
        "simulation.context.setPositions(pdb.positions)\n",
        "simulation.minimizeEnergy()\n",
        "simulation.reporters.append(PDBReporter('output.pdb', 1000))\n",
        "simulation.reporters.append(StateDataReporter(stdout, 1000, step=True,\n",
        "        potentialEnergy=True, temperature=True))\n",
        "simulation.step(10000)"
      ],
      "execution_count": null,
      "outputs": [
        {
          "output_type": "stream",
          "text": [
            "#\"Step\",\"Potential Energy (kJ/mole)\",\"Temperature (K)\"\n",
            "1000,-123760.40423294029,246.44171710344503\n",
            "2000,-118437.21673294029,284.93809751918724\n",
            "3000,-116445.84173294029,300.06040635731785\n",
            "4000,-115468.12298294029,295.2315254956904\n",
            "5000,-116062.40423294029,302.5979862835337\n",
            "6000,-115437.52923294029,298.09529674091567\n",
            "7000,-115665.09173294029,301.9674112511604\n",
            "8000,-115173.09173294029,306.7037790983271\n",
            "9000,-115280.77923294029,300.9175347989562\n",
            "10000,-115545.81048294029,294.34939218916867\n"
          ],
          "name": "stdout"
        }
      ]
    },
    {
      "cell_type": "code",
      "metadata": {
        "id": "OhG07jDghucK"
      },
      "source": [
        "#Generacion de una configuracion aleatoria para el pdb\n",
        "import pandas as pd\n",
        "import numpy as np\n",
        "\n",
        "n=100 #Numero de particulas\n",
        "d=3 #Numero de dimensiones\n",
        "box_A=1000 #Tamaño de la caja (A)\n",
        "\n",
        "coords=np.random.random([n,d])*box_A\n",
        "atoms=pd.DataFrame(coords,columns=['x','y','z'])\n",
        "atoms['name']='A' #Nombre del atomo\n",
        "atoms['resname']='AA' #Nombre del residuo\n",
        "atoms['chainID']='A' #Nombre de la cadena\n",
        "atoms['resSeq']=range(len(atoms)) #Numero del residuo\n",
        "atoms['element']='O' #Elemento (tiene que ser un elemento verdadero)\n",
        "\n",
        "pdb_file='one_particle.pdb'\n",
        "# Write pdb file\n",
        "with open(pdb_file, 'w+') as pdb:\n",
        "    for i, atom in atoms.iterrows():\n",
        "        pdb_line = f'ATOM  {i + 1:>5} {atom[\"name\"]:^4} {atom.resname:<3} {atom.chainID}{atom.resSeq:>4}    {atom.x:>8.3f}{atom.y:>8.3f}{atom.z:>8.3f}' + ' ' * 22 + f'{atom.element:2}' + ' ' * 2\n",
        "        assert len(pdb_line) == 80, 'An item in the atom table is longer than expected'\n",
        "        pdb.write(pdb_line + '\\n')\n"
      ],
      "execution_count": null,
      "outputs": []
    },
    {
      "cell_type": "code",
      "metadata": {
        "id": "AuP4Q-yWhucK",
        "outputId": "9410f8d0-ed2a-4bbc-ecb5-6f11491ef0d9"
      },
      "source": [
        "#Gas ideal\n",
        "from simtk.openmm.app import *\n",
        "from simtk.openmm import *\n",
        "from simtk.unit import *\n",
        "from sys import stdout\n",
        "\n",
        "pdb = PDBFile('one_particle.pdb')\n",
        "forcefield = ForceField('one_particle.xml')\n",
        "system = forcefield.createSystem(pdb.topology)\n",
        "\n",
        "#Tamaño de la caja (Sistema periodico)\n",
        "box_nm=box_A/100\n",
        "system.setDefaultPeriodicBoxVectors([box_nm,0,0],[0,box_nm,0],[0,0,box_nm])\n",
        "\n",
        "integrator = LangevinIntegrator(300*kelvin, 1/picosecond, 0.2*picoseconds)\n",
        "simulation = Simulation(pdb.topology, system, integrator)\n",
        "simulation.context.setPositions(pdb.positions)\n",
        "simulation.minimizeEnergy()\n",
        "simulation.reporters.append(PDBReporter('one_particle_output.pdb', 1000))\n",
        "simulation.reporters.append(StateDataReporter(stdout, 10000, step=True,\n",
        "        potentialEnergy=True, temperature=True))\n",
        "simulation.step(100000)"
      ],
      "execution_count": null,
      "outputs": [
        {
          "output_type": "stream",
          "text": [
            "#\"Step\",\"Potential Energy (kJ/mole)\",\"Temperature (K)\"\n",
            "10000,0.0,305.46098389672045\n",
            "20000,0.0,326.48311407335547\n",
            "30000,0.0,312.00899295649685\n",
            "40000,0.0,298.4735190318051\n",
            "50000,0.0,327.6928308901323\n",
            "60000,0.0,282.2864684706977\n",
            "70000,0.0,300.3373301069102\n",
            "80000,0.0,299.5920503109676\n",
            "90000,0.0,275.4496424092171\n",
            "100000,0.0,294.65603519121834\n"
          ],
          "name": "stdout"
        }
      ]
    },
    {
      "cell_type": "code",
      "metadata": {
        "id": "TMtIhgK-hucK",
        "outputId": "fec1ffe3-8a92-4b7e-da17-6f00f08f5c5a"
      },
      "source": [
        "import matplotlib.pyplot as plt\n",
        "epsilon=-100\n",
        "min_e=1\n",
        "sigma=min_e/2**(1/6)\n",
        "r=np.linspace(0.001,5,1000)\n",
        "y=4*epsilon*((sigma/r)**12-(sigma/r)**6)\n",
        "plt.plot(r,y)\n",
        "plt.ylim(-1,10)"
      ],
      "execution_count": null,
      "outputs": [
        {
          "output_type": "execute_result",
          "data": {
            "text/plain": [
              "(-1.0, 10.0)"
            ]
          },
          "metadata": {
            "tags": []
          },
          "execution_count": 63
        },
        {
          "output_type": "display_data",
          "data": {
            "image/png": "[encoded data removed]",
            "text/plain": [
              "<Figure size 432x288 with 1 Axes>"
            ]
          },
          "metadata": {
            "tags": [],
            "needs_background": "light"
          }
        }
      ]
    },
    {
      "cell_type": "code",
      "metadata": {
        "scrolled": true,
        "id": "Bde11Ae7hucK",
        "outputId": "0f2ec7d4-1d8c-4b0b-a156-2cefbf12a0e5"
      },
      "source": [
        "#Lennard-Jones gas\n",
        "from simtk.openmm.app import *\n",
        "from simtk.openmm import *\n",
        "from simtk.unit import *\n",
        "from sys import stdout\n",
        "\n",
        "pdb = PDBFile('one_particle.pdb')\n",
        "forcefield = ForceField('one_particle.xml')\n",
        "system = forcefield.createSystem(pdb.topology)\n",
        "\n",
        "#Tamaño de la caja (Sistema periodico)\n",
        "box_nm=box_A/100\n",
        "system.setDefaultPeriodicBoxVectors([box_nm,0,0],[0,box_nm,0],[0,0,box_nm])\n",
        "\n",
        "#Agregar fuerzas\n",
        "force=CustomNonbondedForce(\"\"\"energy;\n",
        "                              energy=4*epsilon*((sigma/r)^12-(sigma/r)^6); \n",
        "                              sigma=0.5*(sigma1+sigma2); \n",
        "                              epsilon=sqrt(epsilon1*epsilon2)\"\"\");\n",
        "\n",
        "force.addPerParticleParameter('sigma')\n",
        "force.addPerParticleParameter('epsilon')\n",
        "esilon=-100\n",
        "sigma=10\n",
        "for i in range(100):\n",
        "    force.addParticle([epsilon,sigma])\n",
        "system.addForce(force)\n",
        "\n",
        "integrator = LangevinIntegrator(100*kelvin, 1/picosecond, 0.02*picoseconds)\n",
        "simulation = Simulation(pdb.topology, system, integrator)\n",
        "simulation.context.setPositions(pdb.positions)\n",
        "simulation.minimizeEnergy()\n",
        "simulation.reporters.append(PDBReporter('LJ_output.pdb', 1000))\n",
        "simulation.reporters.append(StateDataReporter(stdout, 10000, step=True,\n",
        "        potentialEnergy=True, temperature=True))\n",
        "simulation.step(1000000)"
      ],
      "execution_count": null,
      "outputs": [
        {
          "output_type": "stream",
          "text": [
            "#\"Step\",\"Potential Energy (kJ/mole)\",\"Temperature (K)\"\n",
            "10000,-26.733476638793945,95.8607442983641\n",
            "20000,-29.68121337890625,109.13137840319645\n",
            "30000,-37.13937759399414,93.4120901401003\n",
            "40000,-33.67831039428711,116.27362109303542\n",
            "50000,-37.89155197143555,99.71811339226004\n",
            "60000,-46.99818801879883,91.93084011291928\n",
            "70000,-57.451416015625,102.42508612188765\n",
            "80000,-68.49951934814453,113.86441209845387\n",
            "90000,-64.02411651611328,103.1010800243391\n",
            "100000,-76.42057800292969,98.53088883877147\n",
            "110000,-75.89051055908203,96.31981995089797\n",
            "120000,-78.40703582763672,112.16142680249311\n",
            "130000,-69.42481231689453,98.74382552678487\n",
            "140000,-75.32486724853516,101.36928622518083\n",
            "150000,-75.51593017578125,111.33434752026521\n",
            "160000,-86.517822265625,93.54503894687245\n",
            "170000,-88.08935546875,106.20358897519641\n",
            "180000,-83.72076416015625,99.76212405813821\n",
            "190000,-80.19700622558594,91.73960974252601\n",
            "200000,-85.66081237792969,96.64002341512087\n",
            "210000,-88.6501235961914,90.25090109045674\n",
            "220000,-86.59425354003906,90.3077656322793\n",
            "230000,-87.80158233642578,87.3718445088585\n",
            "240000,-94.22476196289062,101.58852757831814\n",
            "250000,-96.05760192871094,107.44233778916876\n",
            "260000,-104.62599182128906,97.64789600380502\n",
            "270000,-106.61032104492188,97.26750630497385\n",
            "280000,-114.04788970947266,92.94911339965847\n",
            "290000,-116.97146606445312,94.1062470278128\n",
            "300000,-116.75187683105469,105.8901615733302\n",
            "310000,-116.24747467041016,121.00924140329285\n",
            "320000,-116.4048080444336,106.71622487675396\n",
            "330000,-112.92816925048828,96.75443572959944\n",
            "340000,-127.21418762207031,111.99453049168733\n",
            "350000,-121.1487808227539,106.46564536740782\n",
            "360000,-123.42622375488281,84.53387898276026\n",
            "370000,-123.12362670898438,119.71211372064042\n",
            "380000,-123.8458251953125,89.00957674352905\n",
            "390000,-121.7650375366211,105.42452294265492\n",
            "400000,-118.77229309082031,87.81798620047743\n",
            "410000,-122.84828186035156,94.20614770802185\n",
            "420000,-124.2085952758789,97.47563839409358\n",
            "430000,-120.30227661132812,100.73987883704515\n",
            "440000,-120.59148406982422,100.64268757645964\n",
            "450000,-133.6204071044922,88.29427962008093\n",
            "460000,-127.18412780761719,109.58033504617362\n",
            "470000,-136.80545043945312,104.08489811389038\n",
            "480000,-133.86572265625,97.10068893223904\n",
            "490000,-132.96414184570312,86.83814551442353\n",
            "500000,-131.16033935546875,102.74385664198141\n",
            "510000,-130.70245361328125,109.53127661304072\n",
            "520000,-136.62147521972656,88.45581353373323\n",
            "530000,-133.55764770507812,108.69901644532398\n",
            "540000,-133.595458984375,112.66107746227893\n",
            "550000,-129.70289611816406,99.72937648791076\n",
            "560000,-139.69268798828125,99.51919987167602\n",
            "570000,-144.88206481933594,105.12303031002483\n",
            "580000,-143.8221893310547,112.18620878275755\n",
            "590000,-150.15048217773438,83.9002141720636\n",
            "600000,-150.69615173339844,98.89177208127846\n",
            "610000,-154.7004852294922,93.05311249937567\n",
            "620000,-150.96746826171875,102.84307635121309\n",
            "630000,-173.138916015625,117.57835412678719\n",
            "640000,-169.64117431640625,106.21836787290151\n",
            "650000,-173.5767822265625,108.2859849778477\n",
            "660000,-169.66949462890625,99.94009997725315\n",
            "670000,-172.1802978515625,93.2546001706766\n",
            "680000,-170.5935821533203,88.4206286091349\n",
            "690000,-195.0168914794922,106.98147708867144\n",
            "700000,-193.80149841308594,91.19461485435524\n",
            "710000,-185.43539428710938,115.31775323015532\n",
            "720000,-182.57022094726562,94.52221108569688\n",
            "730000,-196.4189910888672,127.39158303123583\n",
            "740000,-202.16004943847656,98.45373090080098\n",
            "750000,-191.862548828125,81.40471187003719\n",
            "760000,-220.9288787841797,107.44350835012568\n",
            "770000,-218.849853515625,88.07125920372218\n",
            "780000,-222.638671875,92.70325856150514\n",
            "790000,-214.87411499023438,104.89158440035786\n",
            "800000,-221.57156372070312,96.22134213522627\n",
            "810000,-219.12911987304688,86.59214836285057\n",
            "820000,-213.09031677246094,103.14630452315676\n",
            "830000,-219.04647827148438,104.53823012641742\n",
            "840000,-214.3430938720703,92.99189861255437\n",
            "850000,-220.27767944335938,119.96942388552831\n",
            "860000,-217.8397674560547,102.78063841288234\n",
            "870000,-216.51197814941406,118.70496884182661\n",
            "880000,-219.37632751464844,88.8811720879893\n",
            "890000,-219.7783203125,109.83721280615222\n",
            "900000,-219.84619140625,104.17057474990172\n",
            "910000,-213.48159790039062,92.09816513562518\n",
            "920000,-217.70240783691406,92.6744696029326\n",
            "930000,-223.7790069580078,115.26095434333767\n",
            "940000,-221.75181579589844,104.93502791250386\n",
            "950000,-218.63380432128906,103.61609363903686\n",
            "960000,-218.06082153320312,105.45073900829092\n",
            "970000,-220.3465118408203,112.84318676229394\n",
            "980000,-219.97503662109375,114.38831007586057\n",
            "990000,-221.38145446777344,99.17430837263515\n",
            "1000000,-211.6623992919922,95.48442435447114\n"
          ],
          "name": "stdout"
        }
      ]
    },
    {
      "cell_type": "markdown",
      "metadata": {
        "id": "yV39IQjThucL"
      },
      "source": [
        "## Colab scripts"
      ]
    },
    {
      "cell_type": "code",
      "metadata": {
        "id": "qM8CjCpchucL",
        "outputId": "c6f2a41f-44ef-453a-9c24-814fd7b704b3",
        "colab": {
          "base_uri": "https://localhost:8080/"
        }
      },
      "source": [
        "%cd /content\n",
        "!git clone https://github.com/cabb99/cdec039.git\n"
      ],
      "execution_count": 50,
      "outputs": [
        {
          "output_type": "stream",
          "text": [
            "/content\n",
            "fatal: destination path 'cdec039' already exists and is not an empty directory.\n"
          ],
          "name": "stdout"
        }
      ]
    },
    {
      "cell_type": "code",
      "metadata": {
        "id": "0JaxN5Y3h4m1",
        "outputId": "53b0e822-4d07-47de-8224-392b6dc85880",
        "colab": {
          "base_uri": "https://localhost:8080/"
        }
      },
      "source": [
        "%cd /content/cdec039/Clase2\n",
        "!git pull"
      ],
      "execution_count": 52,
      "outputs": [
        {
          "output_type": "stream",
          "text": [
            "/content/cdec039/Clase2\n",
            "Updating e975874..caa29e3\n",
            "Fast-forward\n",
            " Clase2/LJ_output.pdb    | 200005 \u001b[32m+++++++++++++++++++++++\u001b[m\u001b[31m----------------------\u001b[m\n",
            " Clase2/one_particle.pdb |    200 \u001b[32m+\u001b[m\u001b[31m-\u001b[m\n",
            " Clase2/script3.py       |      2 \u001b[32m+\u001b[m\u001b[31m-\u001b[m\n",
            " 3 files changed, 100104 insertions(+), 100103 deletions(-)\n"
          ],
          "name": "stdout"
        }
      ]
    },
    {
      "cell_type": "code",
      "metadata": {
        "id": "Vi3E4SMih8kq",
        "outputId": "6b38a131-4d45-4a0b-d64a-214bf0cb87bf",
        "colab": {
          "base_uri": "https://localhost:8080/"
        }
      },
      "source": [
        "!ls"
      ],
      "execution_count": 53,
      "outputs": [
        {
          "output_type": "stream",
          "text": [
            "amber99sb.xml\tLJ_output.pdb\t\t openmm_examples.ipynb\tscript2.py\n",
            "cdec039\t\tone_particle_output.pdb  openmm.ipynb\t\tscript3.py\n",
            "Conway_2.ipynb\tone_particle.pdb\t output.pdb\t\ttip3p.xml\n",
            "input.pdb\tone_particle.xml\t script1.py\n"
          ],
          "name": "stdout"
        }
      ]
    },
    {
      "cell_type": "code",
      "metadata": {
        "id": "ePpDlycqh9j6",
        "outputId": "d543668f-2b4e-4ccf-873f-3c3fedc89a19",
        "colab": {
          "base_uri": "https://localhost:8080/"
        }
      },
      "source": [
        "!python script1.py"
      ],
      "execution_count": 45,
      "outputs": [
        {
          "output_type": "stream",
          "text": [
            "#\"Step\",\"Potential Energy (kJ/mole)\",\"Temperature (K)\"\n",
            "1000,-124023.24798294029,243.19769772296195\n",
            "2000,-118065.74798294029,285.603909290047\n",
            "3000,-116267.96673294029,296.31884588616975\n",
            "4000,-115340.15423294029,303.9928197977132\n",
            "5000,-115616.93548294029,299.77216124177886\n",
            "6000,-115297.65423294029,302.2081955674046\n",
            "7000,-115497.18548294029,302.7026670721548\n",
            "8000,-115647.21673294029,300.07862787222524\n",
            "9000,-115673.65423294029,294.9014023580946\n",
            "10000,-115377.84173294029,303.1939331116249\n"
          ],
          "name": "stdout"
        }
      ]
    },
    {
      "cell_type": "code",
      "metadata": {
        "id": "rcE6f9cNiHZU",
        "outputId": "42801f08-40ea-4d78-e181-7e32978ec926",
        "colab": {
          "base_uri": "https://localhost:8080/"
        }
      },
      "source": [
        "!python script2.py"
      ],
      "execution_count": 46,
      "outputs": [
        {
          "output_type": "stream",
          "text": [
            "#\"Step\",\"Potential Energy (kJ/mole)\",\"Temperature (K)\"\n",
            "10000,0.0,296.8087851554331\n",
            "20000,0.0,314.48800098295106\n",
            "30000,0.0,300.93949811587913\n",
            "40000,0.0,266.1055316681655\n",
            "50000,0.0,318.2737925834806\n",
            "60000,0.0,317.07363878377356\n",
            "70000,0.0,292.40084328279187\n",
            "80000,0.0,306.47795034246894\n",
            "90000,0.0,314.25458051270186\n",
            "100000,0.0,294.5955179978178\n"
          ],
          "name": "stdout"
        }
      ]
    },
    {
      "cell_type": "code",
      "metadata": {
        "id": "1V68NvmAiIyK",
        "outputId": "02586df1-741f-47cf-db63-5409c707d691",
        "colab": {
          "base_uri": "https://localhost:8080/"
        }
      },
      "source": [
        "!python script3.py"
      ],
      "execution_count": 54,
      "outputs": [
        {
          "output_type": "stream",
          "text": [
            "#\"Step\",\"Potential Energy (kJ/mole)\",\"Temperature (K)\"\n",
            "10000,-911.2085571289062,99.4997068688877\n",
            "20000,-1108.70458984375,114.6583424778121\n",
            "30000,-1332.4266357421875,95.65483030175596\n",
            "40000,-1453.86376953125,99.46296878954375\n",
            "50000,-1570.357666015625,112.32636058969386\n",
            "60000,-1650.082275390625,100.97058672266543\n",
            "70000,-1724.0533447265625,91.89590678362202\n",
            "80000,-1808.7528076171875,109.29584365192763\n",
            "90000,-1969.335205078125,105.26688778162536\n",
            "100000,-2176.976318359375,96.22776443807972\n",
            "110000,-2273.68310546875,88.12494737598867\n",
            "120000,-2319.337158203125,98.51327198722426\n",
            "130000,-2441.289794921875,110.05745426177486\n",
            "140000,-2491.701416015625,94.80419580320383\n",
            "150000,-2493.610107421875,105.7645394553749\n",
            "160000,-2557.386474609375,110.46950067807876\n",
            "170000,-2541.04736328125,97.58942985912026\n",
            "180000,-2554.623291015625,98.11429019277764\n",
            "190000,-2554.2958984375,96.53131664593202\n",
            "200000,-2591.536865234375,92.00810419925747\n",
            "210000,-2597.511962890625,91.65039991880501\n",
            "220000,-2589.05126953125,92.68902918296087\n",
            "230000,-2611.165771484375,90.7052805885267\n",
            "240000,-2636.155517578125,102.43401105621705\n",
            "250000,-2659.19921875,105.58738906561582\n",
            "260000,-2661.870849609375,107.16838377655733\n",
            "270000,-2650.123291015625,90.68314032498057\n",
            "280000,-2674.228271484375,120.0960186844707\n",
            "290000,-2687.34130859375,79.00169428452692\n",
            "300000,-2675.30224609375,94.99331426867631\n",
            "310000,-2720.74658203125,97.27851408063407\n",
            "320000,-2740.45166015625,111.90848060227384\n",
            "330000,-2750.5849609375,111.88269033244862\n",
            "340000,-2753.0107421875,99.96445551301649\n",
            "350000,-2748.427978515625,94.19103874158802\n",
            "360000,-2787.756591796875,94.80878393262381\n",
            "370000,-2792.66162109375,89.20033804141464\n",
            "380000,-2809.15771484375,104.0693830703234\n",
            "390000,-2791.5205078125,112.03737721551289\n",
            "400000,-2819.513427734375,102.22694699349515\n",
            "410000,-2821.715087890625,98.66729284332621\n",
            "420000,-2821.3505859375,97.06475233243388\n",
            "430000,-2836.29248046875,102.35232008224764\n",
            "440000,-2856.535888671875,111.39660087602375\n",
            "450000,-2889.066650390625,89.13837093007263\n",
            "460000,-2921.08154296875,105.5512356991463\n",
            "470000,-2963.06103515625,98.74582886055497\n",
            "480000,-3018.3603515625,88.43526679836322\n",
            "490000,-3081.6201171875,103.2634049319412\n",
            "500000,-3089.814453125,103.42253232362515\n",
            "510000,-3113.042236328125,104.40505869440204\n",
            "520000,-3161.49755859375,105.41164492185281\n",
            "530000,-3188.75537109375,106.11838174584369\n",
            "540000,-3194.440185546875,106.08508305962117\n",
            "550000,-3220.181884765625,104.90457176017897\n",
            "560000,-3232.51611328125,108.4707247677125\n",
            "570000,-3220.4306640625,99.59325594443841\n",
            "580000,-3246.9736328125,105.62963467978729\n",
            "590000,-3250.1240234375,86.14924313911874\n",
            "600000,-3265.81201171875,91.68622798441976\n",
            "610000,-3285.2890625,99.33269147663923\n",
            "620000,-3281.205078125,93.61166587093373\n",
            "630000,-3288.632080078125,100.2263652061713\n",
            "640000,-3277.2421875,109.47721879740924\n",
            "650000,-3289.667236328125,104.0069554627634\n",
            "660000,-3303.156005859375,94.89522017898423\n",
            "670000,-3292.499267578125,101.31518094502833\n",
            "680000,-3316.47021484375,97.72553996169536\n",
            "690000,-3340.379150390625,99.84558753130739\n",
            "700000,-3333.4970703125,90.54537910561338\n",
            "710000,-3371.8935546875,111.83379828386114\n",
            "720000,-3369.2958984375,104.50288250123134\n",
            "730000,-3366.40625,106.11742400057443\n",
            "740000,-3362.343994140625,91.58640219626429\n",
            "750000,-3390.96484375,99.90656928542342\n",
            "760000,-3385.708984375,85.28423686695068\n",
            "770000,-3398.4541015625,103.21341558895308\n",
            "780000,-3392.659912109375,97.13268014839207\n",
            "790000,-3386.811279296875,92.09734880409486\n",
            "800000,-3376.5830078125,106.08186654820197\n",
            "810000,-3400.32177734375,102.882739204812\n",
            "820000,-3440.6669921875,98.54975330324172\n",
            "830000,-3479.46337890625,106.10946676212232\n",
            "840000,-3568.620361328125,110.24401609230094\n",
            "850000,-3580.260986328125,102.81911229403318\n",
            "860000,-3595.2509765625,95.39207603339531\n",
            "870000,-3603.143310546875,99.53171376901534\n",
            "880000,-3636.224609375,112.60816069596552\n",
            "890000,-3694.9228515625,97.44443105307961\n",
            "900000,-3684.86572265625,91.7797806126815\n",
            "910000,-3684.234375,101.53304667337059\n",
            "920000,-3718.31494140625,94.24960243421347\n",
            "930000,-3751.911865234375,105.38572225131284\n",
            "940000,-3727.827880859375,89.66524978439686\n",
            "950000,-3735.77587890625,103.57275810441445\n",
            "960000,-3762.3837890625,105.40178507917113\n",
            "970000,-3765.6806640625,103.6775103064572\n",
            "980000,-3754.5830078125,97.20723053903056\n",
            "990000,-3740.34619140625,95.72068831958481\n",
            "1000000,-3733.07958984375,104.28387942487737\n"
          ],
          "name": "stdout"
        }
      ]
    },
    {
      "cell_type": "code",
      "metadata": {
        "id": "51K_UibAkg2F"
      },
      "source": [
        ""
      ],
      "execution_count": null,
      "outputs": []
    }
  ]
}